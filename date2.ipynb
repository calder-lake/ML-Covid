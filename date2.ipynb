{
 "cells": [
  {
   "cell_type": "code",
   "execution_count": 8,
   "id": "b439c832-54c0-4c09-9ef5-44049e8c34b2",
   "metadata": {},
   "outputs": [],
   "source": [
    "import numpy as np\n",
    "import matplotlib.pyplot as plt\n",
    "from utils import *\n",
    "import copy\n",
    "import math\n",
    "%matplotlib inline\n",
    "import pandas as pd\n",
    "import openpyxl"
   ]
  },
  {
   "cell_type": "code",
   "execution_count": 11,
   "id": "ca217354-0e33-44bd-a4bd-7f2127639633",
   "metadata": {},
   "outputs": [],
   "source": [
    "df = pd.read_excel(\"CoviddataML2.xlsx\", usecols=['date']) # Import columns by name\n",
    "df_1=pd.read_excel(\"CoviddataML2.xlsx\", usecols=['avg.deaths'])"
   ]
  },
  {
   "cell_type": "code",
   "execution_count": 12,
   "id": "47847d1a-81ac-4a01-8e17-f642480eb801",
   "metadata": {},
   "outputs": [
    {
     "name": "stdout",
     "output_type": "stream",
     "text": [
      "[[ 1]\n",
      " [ 2]\n",
      " [ 3]\n",
      " [ 4]\n",
      " [ 5]\n",
      " [ 6]\n",
      " [ 7]\n",
      " [ 8]\n",
      " [ 9]\n",
      " [10]\n",
      " [11]\n",
      " [12]\n",
      " [13]\n",
      " [14]\n",
      " [15]\n",
      " [16]\n",
      " [17]\n",
      " [18]\n",
      " [19]\n",
      " [20]\n",
      " [21]\n",
      " [22]\n",
      " [23]\n",
      " [24]\n",
      " [25]\n",
      " [26]\n",
      " [27]\n",
      " [28]\n",
      " [29]\n",
      " [30]\n",
      " [31]]\n",
      "[[2.9]\n",
      " [2.4]\n",
      " [2. ]\n",
      " [1.6]\n",
      " [1.6]\n",
      " [1.4]\n",
      " [1.4]\n",
      " [1.3]\n",
      " [1.6]\n",
      " [1.7]\n",
      " [1.7]\n",
      " [1.7]\n",
      " [2. ]\n",
      " [2.1]\n",
      " [2.1]\n",
      " [2. ]\n",
      " [1.7]\n",
      " [1.7]\n",
      " [1.9]\n",
      " [1.4]\n",
      " [1.3]\n",
      " [1.3]\n",
      " [0.9]\n",
      " [1. ]\n",
      " [0.9]\n",
      " [0.6]\n",
      " [0.7]\n",
      " [0.9]\n",
      " [0.9]\n",
      " [1.1]\n",
      " [1.3]]\n",
      "(31, 1)\n"
     ]
    }
   ],
   "source": [
    "X_train=df.to_numpy()\n",
    "Y_train=df_1.to_numpy()\n",
    "print (X_train)\n",
    "print (Y_train)\n",
    "print (Y_train.shape)\n",
    "date=X_train[:, 0]"
   ]
  },
  {
   "cell_type": "code",
   "execution_count": 32,
   "id": "554a1eb7-a9c4-4503-b08d-1a09e4fdb387",
   "metadata": {},
   "outputs": [
    {
     "data": {
      "text/plain": [
       "[<matplotlib.lines.Line2D at 0x256c9ca82f0>]"
      ]
     },
     "execution_count": 32,
     "metadata": {},
     "output_type": "execute_result"
    },
    {
     "data": {
      "image/png": "[encoded data removed]",
      "text/plain": [
       "<Figure size 640x480 with 1 Axes>"
      ]
     },
     "metadata": {},
     "output_type": "display_data"
    }
   ],
   "source": [
    "plt.scatter(X_train, Y_train)\n",
    "x= np.arange(1, 31)\n",
    "y= -0.0783*x+2.96\n",
    "plt.plot(x, y)"
   ]
  },
  {
   "cell_type": "code",
   "execution_count": 16,
   "id": "4befe39b-1a30-4a3e-b612-65a66535d815",
   "metadata": {},
   "outputs": [],
   "source": [
    "def compute_cost(X_train, Y_train, w, b, _lambda):\n",
    "    m  = X_train.shape[0]\n",
    "    n  = len(w)\n",
    "    cost = 0.\n",
    "    _lambda=2\n",
    "    for i in range(m):\n",
    "        f_wb_i = X_train[i]*w+ b                                 \n",
    "        cost+= (f_wb_i - Y_train[i])**2                                        \n",
    "    cost = np.sum(cost) / (2 * m)                                           \n",
    "    reg_cost=0\n",
    "    reg_cost+= (w**2)                                        \n",
    "    reg_cost = (_lambda/(2*m)) * reg_cost                             \n",
    "    \n",
    "    total_cost = cost + reg_cost\n",
    "    return (np.sum(total_cost)) "
   ]
  },
  {
   "cell_type": "code",
   "execution_count": 18,
   "id": "ada55e45-d808-4240-acc1-e89aa5454e9b",
   "metadata": {},
   "outputs": [
    {
     "data": {
      "text/plain": [
       "np.float64(109.50838709677423)"
      ]
     },
     "execution_count": 18,
     "metadata": {},
     "output_type": "execute_result"
    }
   ],
   "source": [
    "initial_w= np.array([0.5])\n",
    "initial_b= 7.5\n",
    "\n",
    "compute_cost(X_train, Y_train, initial_w, initial_b, _lambda=2)"
   ]
  },
  {
   "cell_type": "code",
   "execution_count": 19,
   "id": "1d8159e6-53fb-4fed-8af3-59399e551d4a",
   "metadata": {},
   "outputs": [],
   "source": [
    "def compute_gradient(X_train, Y_train, w, b, _lambda):\n",
    "    m,n = X_train.shape           #(number of examples, number of features)\n",
    "    dj_dw = np.zeros((n,))\n",
    "    dj_db = 0.\n",
    "    err=0\n",
    "    for i in range(m):                             \n",
    "        f_wb_i = X_train[i]*w + b\n",
    "        err+= dj_dw+ f_wb_i - Y_train[i]                                     \n",
    "        dj_dw+= (f_wb_i-Y_train[i])* X_train[i]         \n",
    "        dj_db= err                       \n",
    "    dj_dw = (dj_dw)+_lambda*w/ m                                \n",
    "    dj_db = dj_db / m \n",
    "\n",
    "    return dj_db, dj_dw"
   ]
  },
  {
   "cell_type": "code",
   "execution_count": 20,
   "id": "0ece1485-579d-4c4e-8115-619c0970d5d5",
   "metadata": {},
   "outputs": [
    {
     "name": "stdout",
     "output_type": "stream",
     "text": [
      "[0.1]\n"
     ]
    }
   ],
   "source": [
    "w_init = np.array([ 0.1])\n",
    "w_init = w_init.T\n",
    "print (w_init)\n",
    "b_init=7"
   ]
  },
  {
   "cell_type": "code",
   "execution_count": 22,
   "id": "077d61fb-215b-4d8f-8728-5af9ef1aee9c",
   "metadata": {},
   "outputs": [
    {
     "name": "stdout",
     "output_type": "stream",
     "text": [
      "dj_db at initial w,b: [1126.57741935]\n",
      "dj_dw at initial w,b: \n",
      " [3861.70645161]\n"
     ]
    }
   ],
   "source": [
    "tmp_dj_db, tmp_dj_dw = compute_gradient(X_train, Y_train, w_init, b_init, _lambda=2)\n",
    "print(f'dj_db at initial w,b: {tmp_dj_db}')\n",
    "print(f'dj_dw at initial w,b: \\n {tmp_dj_dw}')"
   ]
  },
  {
   "cell_type": "code",
   "execution_count": 27,
   "id": "399b826a-eacc-4685-9aae-753f7865681b",
   "metadata": {},
   "outputs": [],
   "source": [
    "def gradient_descent(X_train, Y_train, w_in, b_in, cost_function, gradient_function, alpha, num_iters): \n",
    "     # An array to store cost J and w's at each iteration primarily for graphing later\n",
    "    J_history = []\n",
    "    w = copy.deepcopy(w_in)  #avoid modifying global w within function\n",
    "    b = b_in\n",
    "    \n",
    "    for i in range(num_iters):\n",
    "\n",
    "        # Calculate the gradient and update the parameters\n",
    "        dj_db,dj_dw = gradient_function(X_train, Y_train, w, b, _lambda=2)   ##None\n",
    "\n",
    "        # Update Parameters using w, b, alpha and gradient\n",
    "        w = w - alpha * dj_dw               ##None\n",
    "        b = b - alpha * dj_db               ##None\n",
    "      \n",
    "        # Save cost J at each iteration\n",
    "        if i<100000:      # prevent resource exhaustion \n",
    "            J_history.append( cost_function(X_train, Y_train, w, b, _lambda=2))\n",
    "\n",
    "        # Print cost every at intervals 10 times or as many iterations if < 10\n",
    "        if i% math.ceil(num_iters / 10) == 0:\n",
    "            print(f\"Iteration {i:4d}: Cost {J_history[-1]:8.2f}   \")\n",
    "        \n",
    "    return w, b, J_history #return final w,b and J history for graphing\n"
   ]
  },
  {
   "cell_type": "code",
   "execution_count": 30,
   "id": "3a373924-b429-4714-a43c-337fa82cf370",
   "metadata": {},
   "outputs": [
    {
     "name": "stdout",
     "output_type": "stream",
     "text": [
      "Iteration    0: Cost     8.25   \n",
      "Iteration 10000: Cost     0.17   \n",
      "Iteration 20000: Cost     0.15   \n",
      "Iteration 30000: Cost     0.15   \n",
      "Iteration 40000: Cost     0.15   \n",
      "Iteration 50000: Cost     0.15   \n",
      "Iteration 60000: Cost     0.14   \n",
      "Iteration 70000: Cost     0.14   \n",
      "Iteration 80000: Cost     0.14   \n",
      "Iteration 90000: Cost     0.14   \n",
      "b,w found by gradient descent: [2.95513484],[-0.07827328] \n"
     ]
    }
   ],
   "source": [
    "# initialize parameters\n",
    "initial_w = np.array([-0.3])\n",
    "initial_b = np.array([3])\n",
    "# some gradient descent settings\n",
    "iterations = 100000\n",
    "alpha = .00000003\n",
    "# run gradient descent \n",
    "w_final, b_final, J_hist = gradient_descent(X_train, Y_train, initial_w, initial_b,\n",
    "                                                    compute_cost, compute_gradient, \n",
    "                                                    alpha, iterations)\n",
    "print(f\"b,w found by gradient descent: {b_final},{w_final} \")"
   ]
  },
  {
   "cell_type": "code",
   "execution_count": 4,
   "id": "5b31bd18-cf8d-4a05-b8d8-6f970e310aa0",
   "metadata": {},
   "outputs": [],
   "source": [
    "three_deaths=-2.96/-.0782733*2.96*0.5"
   ]
  },
  {
   "cell_type": "code",
   "execution_count": 5,
   "id": "a62e4fc4-8340-45c0-8a2e-36abb4651138",
   "metadata": {},
   "outputs": [],
   "source": [
    "h=31\n",
    "c=1\n",
    "integrated= -.0782733*h**2/2+2.96*h-(-.0782733*c**2/2+2.96*c)\n"
   ]
  },
  {
   "cell_type": "code",
   "execution_count": 6,
   "id": "dc901de5-815b-4d4d-b0f4-0a29a16cce4b",
   "metadata": {},
   "outputs": [
    {
     "name": "stdout",
     "output_type": "stream",
     "text": [
      "55.967999304999275\n",
      "51.22881600000001\n"
     ]
    }
   ],
   "source": [
    "print (three_deaths)\n",
    "print (integrated)"
   ]
  },
  {
   "cell_type": "code",
   "execution_count": 7,
   "id": "a2a8c342-9210-4188-8dd8-3fb1ab81ff58",
   "metadata": {},
   "outputs": [
    {
     "name": "stdout",
     "output_type": "stream",
     "text": [
      "340.17\n",
      "344.94\n"
     ]
    }
   ],
   "source": [
    "two_deaths=0.5*(31*.318)*30+6.41*30\n",
    "h=31\n",
    "c=1\n",
    "integrated_1=.318*h**2/2+6.41*h-(.318*c**2/2+6.41*c)\n",
    "print(two_deaths)\n",
    "print(integrated_1)"
   ]
  },
  {
   "cell_type": "code",
   "execution_count": 8,
   "id": "99a94c47-7c24-44bd-940e-c2a0e111de22",
   "metadata": {},
   "outputs": [
    {
     "name": "stdout",
     "output_type": "stream",
     "text": [
      "293.711184\n"
     ]
    }
   ],
   "source": [
    "lives_spared_est= integrated_1-integrated\n",
    "print(lives_spared_est)"
   ]
  },
  {
   "cell_type": "code",
   "execution_count": 11,
   "id": "ca032507-139a-4802-b45d-850c046be80d",
   "metadata": {},
   "outputs": [
    {
     "name": "stdout",
     "output_type": "stream",
     "text": [
      "88.73449667673717\n"
     ]
    }
   ],
   "source": [
    "actual_spared_est= 331\n",
    "accuracy= 1-(actual_spared_est-lives_spared_est)/actual_spared_est\n",
    "print(accuracy*100)"
   ]
  },
  {
   "cell_type": "code",
   "execution_count": null,
   "id": "23fe123d-0ace-40e4-8b1d-111a170b6a24",
   "metadata": {},
   "outputs": [],
   "source": []
  }
 ],
 "metadata": {
  "kernelspec": {
   "display_name": "Python 3 (ipykernel)",
   "language": "python",
   "name": "python3"
  },
  "language_info": {
   "codemirror_mode": {
    "name": "ipython",
    "version": 3
   },
   "file_extension": ".py",
   "mimetype": "text/x-python",
   "name": "python",
   "nbconvert_exporter": "python",
   "pygments_lexer": "ipython3",
   "version": "3.12.3"
  }
 },
 "nbformat": 4,
 "nbformat_minor": 5
}
