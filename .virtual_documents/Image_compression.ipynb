import numpy as np
import matplotlib.pyplot as plt
from PIL import Image
%matplotlib inline


original_img = plt.imread('Homepage2.png')
plt.show(original_img)


print("Shape of original_img is:", original_img.shape)


X_img = np.reshape(original_img, (original_img.shape[0] * original_img.shape[1], 3))


#for each X identify the closest centroid
def find_closest_centroids(X, centroids):
    K = centroids.shape[0]
    idx = np.zeros(X.shape[0], dtype=int)
    m= X.shape[0]
    distance=[]
    #try to find a way to make this not a nested for-loop. This is called 'N-squared'
    #in Big O notation. Essentially with large numbers (like pixels in an image)
    #because you are squaring the number of iterations through the loop.
    #Get creative and see what you can do, also do it in a separate notebook,
    #that way you can reference a problem you solved to optimize code runtimes.
    for i in range(m):
        for j in range(K):
            norm= np.linalg.norm(X[i]-centroids[j])**2
            distance.append(norm)
    s= np.array(distance)
    s= s.reshape(-1, K)
    
    p= s.shape[1]
    b= np.argmin(s, axis= 1)
    idx+=b
    
    return idx


#update each centroid by averaging the values of X assigned to it
def compute_centroids(X, idx, K):
    m, n = X.shape
    centroids = np.zeros((K, n))
    for j in range(K):
        point= sum(X[idx==j])
        centroids[j]= 1/len(X[idx==j])*point
    return centroids


def run_kMeans(X, initial_centroids, max_iters=10, plot_progress=False):
    """
    Runs the K-Means algorithm on data matrix X, where each row of X
    is a single example
    """
    m, n = X.shape
    K = initial_centroids.shape[0]
    centroids = initial_centroids
    previous_centroids = centroids    
    idx = np.zeros(m)
    plt.figure(figsize=(8, 6))

    # Run K-Means
    for i in range(max_iters):
        
        #Output progress
        print("K-Means iteration %d/%d" % (i, max_iters-1))
        
        # For each example in X, assign it to the closest centroid
        idx = find_closest_centroids(X, centroids)
        
        # Optionally plot progress
        if plot_progress:
            plot_progress_kMeans(X, centroids, previous_centroids, idx, K, i)
            previous_centroids = centroids
            
        # Given the memberships, compute new centroids
        centroids = compute_centroids(X, idx, K)
    plt.show() 
    return centroids, idx


from sklearn.cluster import KMeans

def fast_kmeans(data, n_clusters, init='k-means++', n_init=10, max_iter=300, algorithm='elkan'):
    """
    Performs fast k-means clustering on the given data.

    Args:
        data (array-like): The data points to cluster.
        n_clusters (int): The number of clusters to form.
        init (str, optional): Method for initialization: 'k-means++', 'random', or an array of initial centroids. Defaults to 'k-means++'.
        n_init (int, optional): Number of times the k-means algorithm will be run with different centroid seeds. Defaults to 10.
        max_iter (int, optional): Maximum number of iterations for each single run. Defaults to 300.
        algorithm (str, optional): K-means algorithm to use: 'lloyd' or 'elkan'. 'elkan' can be faster for some datasets with distance calculations optimization. Defaults to 'elkan'.

    Returns:
        sklearn.cluster.KMeans: Fitted KMeans model.
    """
    kmeans = KMeans(n_clusters=n_clusters, init=init, n_init=n_init, max_iter=max_iter, algorithm=algorithm)
    kmeans.fit(data)
    return kmeans


#Experiment with different numbers for K and max_iters to optimize quality for size
K = 25
max_iters = 12

# Using the function you have implemented above. 
initial_centroids = kMeans_init_centroids(X_img, K)

# Run K-Means - this can take a couple of minutes depending on K and max_iters
centroids, idx = run_kMeans(X_img, initial_centroids, max_iters)


# Find the closest centroid of each pixel
idx = find_closest_centroids(X_img, centroids)

# Replace each pixel with the color of the closest centroid
X_recovered = centroids[idx, :] 

# Reshape image into proper dimensions
X_recovered = np.reshape(X_recovered, original_img.shape) 


# Display original image
fig, ax = plt.subplots(1,2, figsize=(16,16))
plt.axis('off')

ax[0].imshow(original_img)
ax[0].set_title('Original')
ax[0].set_axis_off()


# Display compressed image
ax[1].imshow(X_recovered)
ax[1].set_title('Compressed with %d colours'%K)
ax[1].set_axis_off()


#Compare image size to original. Check working directory file for png image and compare compressed size to original.
plt.axis('off')
plt.imshow(X_recovered)
plt.show(X_recovered)
plt.savefig('comp_image.png', transparent= 'True')




