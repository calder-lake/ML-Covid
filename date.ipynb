{
 "cells": [
  {
   "cell_type": "code",
   "execution_count": 1,
   "id": "8f4fe8ca-ccd3-4720-99b4-145f34be6e27",
   "metadata": {},
   "outputs": [],
   "source": [
    "import numpy as np\n",
    "import matplotlib.pyplot as plt\n",
    "from utils import *\n",
    "import copy\n",
    "import math\n",
    "%matplotlib inline\n",
    "import pandas as pd\n",
    "import openpyxl"
   ]
  },
  {
   "cell_type": "code",
   "execution_count": 3,
   "id": "1fb1f618-6885-4ccd-9369-1b681f9d2887",
   "metadata": {},
   "outputs": [],
   "source": [
    "df = pd.read_excel('C:/Users/lakec/Documents/ML/coviddataML1.xlsx', usecols=['date']) # Import columns by name\n",
    "df_1=pd.read_excel('C:/Users/lakec/Documents/ML/coviddataML1.xlsx', usecols=['avg.deaths'])"
   ]
  },
  {
   "cell_type": "code",
   "execution_count": 4,
   "id": "dd5df0f2-2ea1-4538-b1b0-2416458bb1bc",
   "metadata": {},
   "outputs": [
    {
     "name": "stdout",
     "output_type": "stream",
     "text": [
      "[[ 1]\n",
      " [ 2]\n",
      " [ 3]\n",
      " [ 4]\n",
      " [ 5]\n",
      " [ 6]\n",
      " [ 7]\n",
      " [ 8]\n",
      " [ 9]\n",
      " [10]\n",
      " [11]\n",
      " [12]\n",
      " [13]\n",
      " [14]\n",
      " [15]\n",
      " [16]\n",
      " [17]\n",
      " [18]\n",
      " [19]\n",
      " [20]\n",
      " [21]\n",
      " [22]\n",
      " [23]\n",
      " [24]\n",
      " [25]\n",
      " [26]\n",
      " [27]\n",
      " [28]\n",
      " [29]\n",
      " [30]\n",
      " [31]]\n",
      "[[ 7.6]\n",
      " [ 7.6]\n",
      " [ 7.8]\n",
      " [ 7.8]\n",
      " [ 8. ]\n",
      " [ 8. ]\n",
      " [ 8.3]\n",
      " [ 8.7]\n",
      " [ 9.4]\n",
      " [ 9.2]\n",
      " [ 9.8]\n",
      " [ 9.7]\n",
      " [10.3]\n",
      " [11.5]\n",
      " [12. ]\n",
      " [12.2]\n",
      " [13.5]\n",
      " [14.2]\n",
      " [14.7]\n",
      " [15. ]\n",
      " [15.1]\n",
      " [15.9]\n",
      " [15.8]\n",
      " [15.8]\n",
      " [15.2]\n",
      " [14.7]\n",
      " [15.2]\n",
      " [13.5]\n",
      " [12.4]\n",
      " [12.3]\n",
      " [12. ]]\n",
      "(31, 1)\n"
     ]
    }
   ],
   "source": [
    "X_train=df.to_numpy()\n",
    "Y_train=df_1.to_numpy()\n",
    "print (X_train)\n",
    "print (Y_train)\n",
    "print (Y_train.shape)\n",
    "date=X_train[:, 0]"
   ]
  },
  {
   "cell_type": "code",
   "execution_count": 597,
   "id": "73199947-75e4-4259-a2dc-476f46df36e6",
   "metadata": {},
   "outputs": [
    {
     "data": {
      "text/plain": [
       "[<matplotlib.lines.Line2D at 0x1ce6be2f5f0>]"
      ]
     },
     "execution_count": 597,
     "metadata": {},
     "output_type": "execute_result"
    },
    {
     "data": {
      "image/png": "[encoded data removed]",
      "text/plain": [
       "<Figure size 640x480 with 1 Axes>"
      ]
     },
     "metadata": {},
     "output_type": "display_data"
    }
   ],
   "source": [
    "plt.scatter(X_train, Y_train)\n",
    "x= np.arange(1, 31)\n",
    "y= 0.318*x+6.41\n",
    "plt.plot(x, y)"
   ]
  },
  {
   "cell_type": "code",
   "execution_count": 572,
   "id": "a9a40389-4980-4e0b-8534-b39ee18a0cb6",
   "metadata": {},
   "outputs": [],
   "source": [
    "def compute_cost(X_train, Y_train, w, b, _lambda):\n",
    "    m  = X_train.shape[0]\n",
    "    n  = len(w)\n",
    "    cost = 0.\n",
    "    _lambda=2\n",
    "    for i in range(m):\n",
    "        f_wb_i = X_train[i]*w+ b                                 \n",
    "        cost+= (f_wb_i - Y_train[i])**2                                        \n",
    "    cost = np.sum(cost) / (2 * m)                                           \n",
    "    reg_cost=0\n",
    "    reg_cost+= (w**2)                                        \n",
    "    reg_cost = (_lambda/(2*m)) * reg_cost                             \n",
    "    \n",
    "    total_cost = cost + reg_cost\n",
    "    return (np.sum(total_cost))                                           "
   ]
  },
  {
   "cell_type": "code",
   "execution_count": 573,
   "id": "acbc1dae-28f6-4b7d-8fac-07d6c13adbd1",
   "metadata": {},
   "outputs": [
    {
     "data": {
      "text/plain": [
       "np.float64(10.480483870967742)"
      ]
     },
     "execution_count": 573,
     "metadata": {},
     "output_type": "execute_result"
    }
   ],
   "source": [
    "initial_w= np.array([0.5])\n",
    "initial_b= 7.5\n",
    "\n",
    "compute_cost(X_train, Y_train, initial_w, initial_b, _lambda)"
   ]
  },
  {
   "cell_type": "code",
   "execution_count": 581,
   "id": "10fc6c8d-93ca-4689-a0b0-be580a4f8be2",
   "metadata": {},
   "outputs": [],
   "source": [
    "def compute_gradient(X_train, Y_train, w, b, _lambda):\n",
    "    m,n = X_train.shape           #(number of examples, number of features)\n",
    "    dj_dw = np.zeros((n,))\n",
    "    dj_db = 0.\n",
    "    err=0\n",
    "    for i in range(m):                             \n",
    "        f_wb_i = X_train[i]*w + b\n",
    "        err+= dj_dw+ f_wb_i - Y_train[i]                                     \n",
    "        dj_dw+= (f_wb_i-Y_train[i])* X_train[i]         \n",
    "        dj_db= err                       \n",
    "    dj_dw = (dj_dw)+_lambda*w/ m                                \n",
    "    dj_db = dj_db / m \n",
    "\n",
    "    return dj_db, dj_dw"
   ]
  },
  {
   "cell_type": "code",
   "execution_count": 582,
   "id": "b88b6e4f-bcc7-44a5-964f-46e3694f5715",
   "metadata": {},
   "outputs": [
    {
     "name": "stdout",
     "output_type": "stream",
     "text": [
      "[0.1]\n"
     ]
    }
   ],
   "source": [
    "w_init = np.array([ 0.1])\n",
    "w_init = w_init.T\n",
    "print (w_init)\n",
    "b_init=7"
   ]
  },
  {
   "cell_type": "code",
   "execution_count": 583,
   "id": "a87dc5fa-9243-4726-9e88-e1d44fca7ce2",
   "metadata": {},
   "outputs": [
    {
     "name": "stdout",
     "output_type": "stream",
     "text": [
      "dj_db at initial w,b: [-559.00645161]\n",
      "dj_dw at initial w,b: \n",
      " [-1975.46774194]\n"
     ]
    }
   ],
   "source": [
    "tmp_dj_db, tmp_dj_dw = compute_gradient(X_train, Y_train, w_init, b_init, _lambda)\n",
    "print(f'dj_db at initial w,b: {tmp_dj_db}')\n",
    "print(f'dj_dw at initial w,b: \\n {tmp_dj_dw}')"
   ]
  },
  {
   "cell_type": "code",
   "execution_count": 588,
   "id": "56cf690e-db55-462a-bed6-678b534c413b",
   "metadata": {},
   "outputs": [],
   "source": [
    "def gradient_descent(X_train, Y_train, w_in, b_in, cost_function, gradient_function, alpha, num_iters): \n",
    "     # An array to store cost J and w's at each iteration primarily for graphing later\n",
    "    J_history = []\n",
    "    w = copy.deepcopy(w_in)  #avoid modifying global w within function\n",
    "    b = b_in\n",
    "    \n",
    "    for i in range(num_iters):\n",
    "\n",
    "        # Calculate the gradient and update the parameters\n",
    "        dj_db,dj_dw = gradient_function(X_train, Y_train, w, b, _lambda)   ##None\n",
    "\n",
    "        # Update Parameters using w, b, alpha and gradient\n",
    "        w = w - alpha * dj_dw               ##None\n",
    "        b = b - alpha * dj_db               ##None\n",
    "      \n",
    "        # Save cost J at each iteration\n",
    "        if i<100000:      # prevent resource exhaustion \n",
    "            J_history.append( cost_function(X_train, Y_train, w, b, _lambda))\n",
    "\n",
    "        # Print cost every at intervals 10 times or as many iterations if < 10\n",
    "        if i% math.ceil(num_iters / 10) == 0:\n",
    "            print(f\"Iteration {i:4d}: Cost {J_history[-1]:8.2f}   \")\n",
    "        \n",
    "    return w, b, J_history #return final w,b and J history for graphing\n"
   ]
  },
  {
   "cell_type": "code",
   "execution_count": 596,
   "id": "18852c28-96bc-4ea7-a72f-4331348d4ad9",
   "metadata": {},
   "outputs": [
    {
     "name": "stdout",
     "output_type": "stream",
     "text": [
      "Iteration    0: Cost    10.93   \n",
      "Iteration 10000: Cost     1.46   \n",
      "Iteration 20000: Cost     1.44   \n",
      "Iteration 30000: Cost     1.43   \n",
      "Iteration 40000: Cost     1.42   \n",
      "Iteration 50000: Cost     1.41   \n",
      "Iteration 60000: Cost     1.40   \n",
      "Iteration 70000: Cost     1.39   \n",
      "Iteration 80000: Cost     1.38   \n",
      "Iteration 90000: Cost     1.37   \n",
      "b,w found by gradient descent: [6.4062014],[0.31842859] \n"
     ]
    }
   ],
   "source": [
    "# initialize parameters\n",
    "initial_w = np.array([0.1])\n",
    "initial_b = np.array([6])\n",
    "# some gradient descent settings\n",
    "iterations = 100000\n",
    "alpha = .00000003\n",
    "# run gradient descent \n",
    "w_final, b_final, J_hist = gradient_descent(X_train, Y_train, initial_w, initial_b,\n",
    "                                                    compute_cost, compute_gradient, \n",
    "                                                    alpha, iterations)\n",
    "print(f\"b,w found by gradient descent: {b_final},{w_final} \")"
   ]
  },
  {
   "cell_type": "code",
   "execution_count": null,
   "id": "fc1bf25c-a0c5-484e-8c87-ee2a994ec3a5",
   "metadata": {},
   "outputs": [],
   "source": []
  },
  {
   "cell_type": "code",
   "execution_count": null,
   "id": "f203f8eb-298d-4a67-ab9a-4b2ff23027e9",
   "metadata": {},
   "outputs": [],
   "source": []
  }
 ],
 "metadata": {
  "kernelspec": {
   "display_name": "Python 3 (ipykernel)",
   "language": "python",
   "name": "python3"
  },
  "language_info": {
   "codemirror_mode": {
    "name": "ipython",
    "version": 3
   },
   "file_extension": ".py",
   "mimetype": "text/x-python",
   "name": "python",
   "nbconvert_exporter": "python",
   "pygments_lexer": "ipython3",
   "version": "3.12.3"
  }
 },
 "nbformat": 4,
 "nbformat_minor": 5
}
